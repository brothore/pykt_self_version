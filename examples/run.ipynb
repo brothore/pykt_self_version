{
 "cells": [
  {
   "cell_type": "code",
   "execution_count": null,
   "id": "f9235a19",
   "metadata": {},
   "outputs": [
    {
     "name": "stdout",
     "output_type": "stream",
     "text": [
      "Traceback (most recent call last):\n",
      "  File \"/root/autodl-tmp/pykt_self_version/examples/data_preprocess.py\", line 3, in <module>\n",
      "    from pykt.preprocess.split_datasets import main as split_concept\n",
      "ModuleNotFoundError: No module named 'pykt'\n"
     ]
    }
   ],
   "source": [
    "#数据处理\n",
    "\n",
    "!python data_preprocess.py -d assist2009"
   ]
  },
  {
   "cell_type": "code",
   "execution_count": null,
   "id": "09772c81",
   "metadata": {},
   "outputs": [],
   "source": [
    "!pip install pandas scikit-learn seaborn einops chardet"
   ]
  },
  {
   "cell_type": "code",
   "execution_count": null,
   "id": "1a4ecf27",
   "metadata": {},
   "outputs": [],
   "source": [
    "!expert "
   ]
  },
  {
   "cell_type": "code",
   "execution_count": 10,
   "id": "8f7bbfcc",
   "metadata": {},
   "outputs": [
    {
     "name": "stdout",
     "output_type": "stream",
     "text": [
      "/root/autodl-tmp/pykt_self_version/pykt:/root/autodl-tmp/pykt_self_version/pykt:/root/autodl-tmp/pykt_self_version/pykt:/root/autodl-tmp/pykt_self_version/pykt:/root/autodl-tmp/pykt_self_version/pykt:\n",
      "/root/autodl-tmp/pykt_self_version/examples\n",
      "当前工作目录: /root/autodl-tmp/pykt_self_version/examples\n",
      "系统路径: ['/root/autodl-tmp/pykt_self_version', '/root/autodl-tmp/pykt_self_version/pykt', '/root/autodl-tmp/pykt_self_version/examples', '/root/miniconda3/lib/python312.zip', '/root/miniconda3/lib/python3.12', '/root/miniconda3/lib/python3.12/lib-dynload', '', '/root/miniconda3/lib/python3.12/site-packages', '/root/autodl-tmp/pykt_self_version/pykt', '/root/autodl-tmp/pykt_self_version/pykt', '/root/autodl-tmp/pykt_self_version/pykt', '/root/autodl-tmp/pykt_self_version/pykt']\n"
     ]
    }
   ],
   "source": [
    "!echo $PYTHONPATH\n",
    "!pwd\n",
    "import sys\n",
    "import os\n",
    "\n",
    "# 添加项目根目录到系统路径\n",
    "project_path = \"/root/autodl-tmp/pykt_self_version\"\n",
    "if project_path not in sys.path:\n",
    "    sys.path.insert(0, project_path)\n",
    "\n",
    "# 验证路径是否正确\n",
    "print(\"当前工作目录:\", os.getcwd())\n",
    "print(\"系统路径:\", sys.path)"
   ]
  },
  {
   "cell_type": "code",
   "execution_count": null,
   "id": "bf5ee7e1",
   "metadata": {},
   "outputs": [
    {
     "name": "stdout",
     "output_type": "stream",
     "text": [
      "Traceback (most recent call last):\n",
      "  File \"/root/autodl-tmp/pykt_self_version/examples/data_preprocess.py\", line 3, in <module>\n",
      "    from pykt.preprocess.split_datasets import main as split_concept\n",
      "ModuleNotFoundError: No module named 'pykt'\n"
     ]
    }
   ],
   "source": [
    "# 单元格1：设置环境变量\n",
    "import os\n",
    "import sys\n",
    "os.environ.update({\n",
    "    \"PROJECT_NAME\": \"DKT_ADA_A9\",\n",
    "    \"DATASET_NAME\": \"assist2009\",\n",
    "    \"MODEL_NAME\": \"dkt\",\n",
    "    \"WANDB_API_KEY\": \"187382bdcaf0520fc4a81a017f34c3e53a40c8a9\",\n",
    "    \"NUMS\": \"0,0,0,0,0\",\n",
    "    \"START_SWEEP\": \"0\",\n",
    "    \"END_SWEEP\": \"5\"\n",
    "})\n",
    "\n",
    "sys.path.append(\"/root/autodl-tmp/pykt_self_version/pykt\")  # 动态添加路径\n",
    "os.environ[\"PYTHONPATH\"] = \"/root/autodl-tmp/pykt_self_version/pykt:\" + os.environ.get(\"PYTHONPATH\", \"\")\n",
    "# 单元格2：验证变量\n",
    "# print(os.getenv(\"WANDB_API_KEY\"))  # 输出：187382bdcaf0520fc4a81a017f34c3e53a40c8a9\n"
   ]
  }
 ],
 "metadata": {
  "kernelspec": {
   "display_name": "base",
   "language": "python",
   "name": "python3"
  },
  "language_info": {
   "codemirror_mode": {
    "name": "ipython",
    "version": 3
   },
   "file_extension": ".py",
   "mimetype": "text/x-python",
   "name": "python",
   "nbconvert_exporter": "python",
   "pygments_lexer": "ipython3",
   "version": "3.12.3"
  }
 },
 "nbformat": 4,
 "nbformat_minor": 5
}
