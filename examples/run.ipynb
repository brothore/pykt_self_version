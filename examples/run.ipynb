{
 "cells": [
  {
   "cell_type": "code",
   "execution_count": null,
   "id": "f9235a19",
   "metadata": {},
   "outputs": [
    {
     "name": "stdout",
     "output_type": "stream",
     "text": [
      "Traceback (most recent call last):\n",
      "  File \"/root/autodl-tmp/pykt_self_version/examples/data_preprocess.py\", line 3, in <module>\n",
      "    from pykt.preprocess.split_datasets import main as split_concept\n",
      "ModuleNotFoundError: No module named 'pykt'\n"
     ]
    }
   ],
   "source": [
    "#数据处理\n",
    "\n",
    "!python data_preprocess.py -d assist2009"
   ]
  },
  {
   "cell_type": "code",
   "execution_count": 1,
   "id": "09772c81",
   "metadata": {},
   "outputs": [
    {
     "name": "stdout",
     "output_type": "stream",
     "text": [
      "Looking in indexes: http://mirrors.aliyun.com/pypi/simple\n",
      "Requirement already satisfied: pandas in /root/miniconda3/lib/python3.12/site-packages (2.2.3)\n",
      "Collecting scikit-learn\n",
      "  Downloading http://mirrors.aliyun.com/pypi/packages/29/7a/8bce8968883e9465de20be15542f4c7e221952441727c4dad24d534c6d99/scikit_learn-1.6.1-cp312-cp312-manylinux_2_17_x86_64.manylinux2014_x86_64.whl (13.1 MB)\n",
      "\u001b[2K     \u001b[90m━━━━━━━━━━━━━━━━━━━━━━━━━━━━━━━━━━━━━━━━\u001b[0m \u001b[32m13.1/13.1 MB\u001b[0m \u001b[31m10.1 MB/s\u001b[0m eta \u001b[36m0:00:00\u001b[0ma \u001b[36m0:00:01\u001b[0m\n",
      "\u001b[?25hCollecting seaborn\n",
      "  Downloading http://mirrors.aliyun.com/pypi/packages/83/11/00d3c3dfc25ad54e731d91449895a79e4bf2384dc3ac01809010ba88f6d5/seaborn-0.13.2-py3-none-any.whl (294 kB)\n",
      "\u001b[2K     \u001b[90m━━━━━━━━━━━━━━━━━━━━━━━━━━━━━━━━━━━━━\u001b[0m \u001b[32m294.9/294.9 kB\u001b[0m \u001b[31m119.3 MB/s\u001b[0m eta \u001b[36m0:00:00\u001b[0m\n",
      "\u001b[?25hCollecting einops\n",
      "  Downloading http://mirrors.aliyun.com/pypi/packages/87/62/9773de14fe6c45c23649e98b83231fffd7b9892b6cf863251dc2afa73643/einops-0.8.1-py3-none-any.whl (64 kB)\n",
      "\u001b[2K     \u001b[90m━━━━━━━━━━━━━━━━━━━━━━━━━━━━━━━━━━━━━━━━\u001b[0m \u001b[32m64.4/64.4 kB\u001b[0m \u001b[31m30.3 MB/s\u001b[0m eta \u001b[36m0:00:00\u001b[0m\n",
      "\u001b[?25hCollecting chardet\n",
      "  Downloading http://mirrors.aliyun.com/pypi/packages/38/6f/f5fbc992a329ee4e0f288c1fe0e2ad9485ed064cac731ed2fe47dcc38cbf/chardet-5.2.0-py3-none-any.whl (199 kB)\n",
      "\u001b[2K     \u001b[90m━━━━━━━━━━━━━━━━━━━━━━━━━━━━━━━━━━━━━━\u001b[0m \u001b[32m199.4/199.4 kB\u001b[0m \u001b[31m98.3 MB/s\u001b[0m eta \u001b[36m0:00:00\u001b[0m\n",
      "\u001b[?25hRequirement already satisfied: numpy>=1.26.0 in /root/miniconda3/lib/python3.12/site-packages (from pandas) (2.1.3)\n",
      "Requirement already satisfied: python-dateutil>=2.8.2 in /root/miniconda3/lib/python3.12/site-packages (from pandas) (2.9.0.post0)\n",
      "Requirement already satisfied: pytz>=2020.1 in /root/miniconda3/lib/python3.12/site-packages (from pandas) (2025.2)\n",
      "Requirement already satisfied: tzdata>=2022.7 in /root/miniconda3/lib/python3.12/site-packages (from pandas) (2025.2)\n",
      "Collecting scipy>=1.6.0 (from scikit-learn)\n",
      "  Downloading http://mirrors.aliyun.com/pypi/packages/0b/1f/03f52c282437a168ee2c7c14a1a0d0781a9a4a8962d84ac05c06b4c5b555/scipy-1.15.3-cp312-cp312-manylinux_2_17_x86_64.manylinux2014_x86_64.whl (37.3 MB)\n",
      "\u001b[2K     \u001b[90m━━━━━━━━━━━━━━━━━━━━━━━━━━━━━━━━━━━━━━━━\u001b[0m \u001b[32m37.3/37.3 MB\u001b[0m \u001b[31m21.4 MB/s\u001b[0m eta \u001b[36m0:00:00\u001b[0m00:01\u001b[0m00:01\u001b[0m\n",
      "\u001b[?25hCollecting joblib>=1.2.0 (from scikit-learn)\n",
      "  Downloading http://mirrors.aliyun.com/pypi/packages/7d/4f/1195bbac8e0c2acc5f740661631d8d750dc38d4a32b23ee5df3cde6f4e0d/joblib-1.5.1-py3-none-any.whl (307 kB)\n",
      "\u001b[2K     \u001b[90m━━━━━━━━━━━━━━━━━━━━━━━━━━━━━━━━━━━━━━\u001b[0m \u001b[32m307.7/307.7 kB\u001b[0m \u001b[31m77.7 MB/s\u001b[0m eta \u001b[36m0:00:00\u001b[0m\n",
      "\u001b[?25hCollecting threadpoolctl>=3.1.0 (from scikit-learn)\n",
      "  Downloading http://mirrors.aliyun.com/pypi/packages/32/d5/f9a850d79b0851d1d4ef6456097579a9005b31fea68726a4ae5f2d82ddd9/threadpoolctl-3.6.0-py3-none-any.whl (18 kB)\n",
      "Requirement already satisfied: matplotlib!=3.6.1,>=3.4 in /root/miniconda3/lib/python3.12/site-packages (from seaborn) (3.9.2)\n",
      "Requirement already satisfied: contourpy>=1.0.1 in /root/miniconda3/lib/python3.12/site-packages (from matplotlib!=3.6.1,>=3.4->seaborn) (1.3.1)\n",
      "Requirement already satisfied: cycler>=0.10 in /root/miniconda3/lib/python3.12/site-packages (from matplotlib!=3.6.1,>=3.4->seaborn) (0.12.1)\n",
      "Requirement already satisfied: fonttools>=4.22.0 in /root/miniconda3/lib/python3.12/site-packages (from matplotlib!=3.6.1,>=3.4->seaborn) (4.55.0)\n",
      "Requirement already satisfied: kiwisolver>=1.3.1 in /root/miniconda3/lib/python3.12/site-packages (from matplotlib!=3.6.1,>=3.4->seaborn) (1.4.7)\n",
      "Requirement already satisfied: packaging>=20.0 in /root/miniconda3/lib/python3.12/site-packages (from matplotlib!=3.6.1,>=3.4->seaborn) (23.2)\n",
      "Requirement already satisfied: pillow>=8 in /root/miniconda3/lib/python3.12/site-packages (from matplotlib!=3.6.1,>=3.4->seaborn) (11.0.0)\n",
      "Requirement already satisfied: pyparsing>=2.3.1 in /root/miniconda3/lib/python3.12/site-packages (from matplotlib!=3.6.1,>=3.4->seaborn) (3.2.0)\n",
      "Requirement already satisfied: six>=1.5 in /root/miniconda3/lib/python3.12/site-packages (from python-dateutil>=2.8.2->pandas) (1.16.0)\n",
      "Installing collected packages: threadpoolctl, scipy, joblib, einops, chardet, scikit-learn, seaborn\n",
      "Successfully installed chardet-5.2.0 einops-0.8.1 joblib-1.5.1 scikit-learn-1.6.1 scipy-1.15.3 seaborn-0.13.2 threadpoolctl-3.6.0\n",
      "\u001b[33mWARNING: Running pip as the 'root' user can result in broken permissions and conflicting behaviour with the system package manager. It is recommended to use a virtual environment instead: https://pip.pypa.io/warnings/venv\u001b[0m\u001b[33m\n",
      "\u001b[0m"
     ]
    }
   ],
   "source": [
    "!pip install pandas scikit-learn seaborn einops chardet"
   ]
  },
  {
   "cell_type": "code",
   "execution_count": null,
   "id": "1a4ecf27",
   "metadata": {},
   "outputs": [],
   "source": [
    "!expert "
   ]
  },
  {
   "cell_type": "code",
   "execution_count": 10,
   "id": "8f7bbfcc",
   "metadata": {},
   "outputs": [
    {
     "name": "stdout",
     "output_type": "stream",
     "text": [
      "/root/autodl-tmp/pykt_self_version/pykt:/root/autodl-tmp/pykt_self_version/pykt:/root/autodl-tmp/pykt_self_version/pykt:/root/autodl-tmp/pykt_self_version/pykt:/root/autodl-tmp/pykt_self_version/pykt:\n",
      "/root/autodl-tmp/pykt_self_version/examples\n",
      "当前工作目录: /root/autodl-tmp/pykt_self_version/examples\n",
      "系统路径: ['/root/autodl-tmp/pykt_self_version', '/root/autodl-tmp/pykt_self_version/pykt', '/root/autodl-tmp/pykt_self_version/examples', '/root/miniconda3/lib/python312.zip', '/root/miniconda3/lib/python3.12', '/root/miniconda3/lib/python3.12/lib-dynload', '', '/root/miniconda3/lib/python3.12/site-packages', '/root/autodl-tmp/pykt_self_version/pykt', '/root/autodl-tmp/pykt_self_version/pykt', '/root/autodl-tmp/pykt_self_version/pykt', '/root/autodl-tmp/pykt_self_version/pykt']\n"
     ]
    }
   ],
   "source": [
    "!echo $PYTHONPATH\n",
    "!pwd\n",
    "import sys\n",
    "import os\n",
    "\n",
    "# 添加项目根目录到系统路径\n",
    "project_path = \"/root/autodl-tmp/pykt_self_version\"\n",
    "if project_path not in sys.path:\n",
    "    sys.path.insert(0, project_path)\n",
    "\n",
    "# 验证路径是否正确\n",
    "print(\"当前工作目录:\", os.getcwd())\n",
    "print(\"系统路径:\", sys.path)"
   ]
  },
  {
   "cell_type": "code",
   "execution_count": null,
   "id": "bf5ee7e1",
   "metadata": {},
   "outputs": [
    {
     "name": "stdout",
     "output_type": "stream",
     "text": [
      "Traceback (most recent call last):\n",
      "  File \"/root/autodl-tmp/pykt_self_version/examples/data_preprocess.py\", line 3, in <module>\n",
      "    from pykt.preprocess.split_datasets import main as split_concept\n",
      "ModuleNotFoundError: No module named 'pykt'\n"
     ]
    }
   ],
   "source": [
    "# 单元格1：设置环境变量\n",
    "import os\n",
    "import sys\n",
    "os.environ.update({\n",
    "    \"PROJECT_NAME\": \"DKT_ADA_A9\",\n",
    "    \"DATASET_NAME\": \"assist2009\",\n",
    "    \"MODEL_NAME\": \"dkt\",\n",
    "    \"WANDB_API_KEY\": \"187382bdcaf0520fc4a81a017f34c3e53a40c8a9\",\n",
    "    \"NUMS\": \"0,0,0,0,0\",\n",
    "    \"START_SWEEP\": \"0\",\n",
    "    \"END_SWEEP\": \"5\"\n",
    "})\n",
    "\n",
    "sys.path.append(\"/root/autodl-tmp/pykt_self_version/pykt\")  # 动态添加路径\n",
    "os.environ[\"PYTHONPATH\"] = \"/root/autodl-tmp/pykt_self_version/pykt:\" + os.environ.get(\"PYTHONPATH\", \"\")\n",
    "# 单元格2：验证变量\n",
    "# print(os.getenv(\"WANDB_API_KEY\"))  # 输出：187382bdcaf0520fc4a81a017f34c3e53a40c8a9\n"
   ]
  }
 ],
 "metadata": {
  "kernelspec": {
   "display_name": "base",
   "language": "python",
   "name": "python3"
  },
  "language_info": {
   "codemirror_mode": {
    "name": "ipython",
    "version": 3
   },
   "file_extension": ".py",
   "mimetype": "text/x-python",
   "name": "python",
   "nbconvert_exporter": "python",
   "pygments_lexer": "ipython3",
   "version": "3.12.3"
  }
 },
 "nbformat": 4,
 "nbformat_minor": 5
}
