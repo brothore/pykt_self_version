{
 "cells": [
  {
   "cell_type": "code",
   "execution_count": 6,
   "id": "0655a788-786e-47ef-9559-071ce272b608",
   "metadata": {},
   "outputs": [
    {
     "name": "stdout",
     "output_type": "stream",
     "text": [
      "每个uid的问题数量统计：\n",
      "       uid  max  min\n",
      "0        0  742  742\n",
      "1        1  326  326\n",
      "2        2  286  286\n",
      "3        3  311  311\n",
      "4        4  226  226\n",
      "...    ...  ...  ...\n",
      "3103  3878    3    3\n",
      "3104  3879    3    3\n",
      "3105  3880    3    3\n",
      "3106  3881    3    3\n",
      "3107  3883    5    5\n",
      "\n",
      "[3108 rows x 3 columns]\n",
      "所有用户中问题数量的最大值：6157\n",
      "所有用户中问题数量的最小值：3\n",
      "全局最大问题数量 6157 对应的用户UID：\n",
      "3350\n",
      "\n",
      "全局最小问题数量 3 对应的用户UID：\n",
      "2752, 3176, 3753, 2567, 3747, 3445, 3520, 1779, 3740, 3263, 3110, 3068, 3880, 3216, 3721, 3750, 3865, 1633, 2147, 2149, 3693, 3526, 3881, 3504, 2335, 3870, 2968, 2694, 3166, 3774, 2576, 1867, 1847, 2747, 3760, 853, 2530, 1461, 2560, 3878, 3743, 1871, 1438, 3770, 3441, 3679, 3735, 3200, 3694, 954, 1626, 3813, 1492, 2975, 855, 756, 1870, 3879, 1616, 2052, 1446, 2562, 3737, 2568, 1617\n",
      "\n",
      "详细分布：\n",
      "question_count\n",
      "5       131\n",
      "10      124\n",
      "6        96\n",
      "8        90\n",
      "4        80\n",
      "       ... \n",
      "274       1\n",
      "847       1\n",
      "1029      1\n",
      "202       1\n",
      "753       1\n",
      "Name: count, Length: 501, dtype: int64\n"
     ]
    }
   ],
   "source": [
    "import pandas as pd\n",
    "\n",
    "# 读取CSV文件（请替换为你的文件路径）\n",
    "df = pd.read_csv(\"/root/autodl-tmp/pykt_self_version/data/assist2009/train_valid.csv\")\n",
    "\n",
    "# 计算每行的问题数量\n",
    "df[\"question_count\"] = df[\"questions\"].apply(lambda x: len(str(x).split(\",\")))\n",
    "\n",
    "# 按uid分组计算最大最小值\n",
    "result = df.groupby(\"uid\")[\"question_count\"].agg([\"max\", \"min\"]).reset_index()\n",
    "\n",
    "print(\"每个uid的问题数量统计：\")\n",
    "print(result)\n",
    "\n",
    "\n",
    "# 计算全局最大最小值\n",
    "global_max = df[\"question_count\"].max()\n",
    "global_min = df[\"question_count\"].min()\n",
    "\n",
    "print(f\"所有用户中问题数量的最大值：{global_max}\")\n",
    "print(f\"所有用户中问题数量的最小值：{global_min}\")\n",
    "# 找到全局最大最小值\n",
    "max_count = df[\"question_count\"].max()\n",
    "min_count = df[\"question_count\"].min()\n",
    "\n",
    "# 找到对应的uid（去重处理）\n",
    "max_uids = df[df[\"question_count\"] == max_count][\"uid\"].unique()\n",
    "min_uids = df[df[\"question_count\"] == min_count][\"uid\"].unique()\n",
    "\n",
    "# 格式化输出\n",
    "print(f\"全局最大问题数量 {max_count} 对应的用户UID：\")\n",
    "print(\", \".join(map(str, max_uids)) if len(max_uids) > 0 else \"无\")\n",
    "\n",
    "print(f\"\\n全局最小问题数量 {min_count} 对应的用户UID：\")\n",
    "print(\", \".join(map(str, min_uids)) if len(min_uids) > 0 else \"无\")\n",
    "\n",
    "# 附加统计信息\n",
    "print(f\"\\n详细分布：\")\n",
    "print(df[\"question_count\"].value_counts())"
   ]
  },
  {
   "cell_type": "code",
   "execution_count": null,
   "id": "afc5b8f0-17e4-45a3-8a32-75f4c3455d6b",
   "metadata": {},
   "outputs": [],
   "source": []
  }
 ],
 "metadata": {
  "kernelspec": {
   "display_name": "Python 3 (ipykernel)",
   "language": "python",
   "name": "python3"
  },
  "language_info": {
   "codemirror_mode": {
    "name": "ipython",
    "version": 3
   },
   "file_extension": ".py",
   "mimetype": "text/x-python",
   "name": "python",
   "nbconvert_exporter": "python",
   "pygments_lexer": "ipython3",
   "version": "3.12.3"
  }
 },
 "nbformat": 4,
 "nbformat_minor": 5
}
